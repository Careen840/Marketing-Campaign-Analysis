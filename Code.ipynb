{
 "cells": [
  {
   "cell_type": "code",
   "execution_count": 502,
   "metadata": {},
   "outputs": [],
   "source": [
    "import pandas as pd \n",
    "import numpy as np \n",
    "import matplotlib.pyplot as plt\n",
    "\n",
    "marketing = pd.read_csv('marketing.csv')\n"
   ]
  },
  {
   "cell_type": "code",
   "execution_count": 503,
   "metadata": {},
   "outputs": [
    {
     "name": "stdout",
     "output_type": "stream",
     "text": [
      "   Unnamed: 0     user_id date_served marketing_channel          variant  \\\n",
      "0           0  a100000029  2018-01-01         House Ads  personalization   \n",
      "1           1  a100000030  2018-01-01         House Ads  personalization   \n",
      "2           2  a100000031  2018-01-01         House Ads  personalization   \n",
      "3           3  a100000032  2018-01-01         House Ads  personalization   \n",
      "4           4  a100000033  2018-01-01         House Ads  personalization   \n",
      "\n",
      "   converted language_displayed language_preferred    age_group  \\\n",
      "0       True            English            English   0-18 years   \n",
      "1       True            English            English  19-24 years   \n",
      "2       True            English            English  24-30 years   \n",
      "3       True            English            English  30-36 years   \n",
      "4       True            English            English  36-45 years   \n",
      "\n",
      "  date_subscribed date_canceled subscribing_channel  is_retained  DoW  \\\n",
      "0      2018-01-01           NaN           House Ads         True  0.0   \n",
      "1      2018-01-01           NaN           House Ads         True  0.0   \n",
      "2      2018-01-01           NaN           House Ads         True  0.0   \n",
      "3      2018-01-01           NaN           House Ads         True  0.0   \n",
      "4      2018-01-01           NaN           House Ads         True  0.0   \n",
      "\n",
      "   channel_code is_correct_lang  \n",
      "0           1.0             Yes  \n",
      "1           1.0             Yes  \n",
      "2           1.0             Yes  \n",
      "3           1.0             Yes  \n",
      "4           1.0             Yes  \n",
      "<class 'pandas.core.frame.DataFrame'>\n",
      "RangeIndex: 10037 entries, 0 to 10036\n",
      "Data columns (total 16 columns):\n",
      " #   Column               Non-Null Count  Dtype  \n",
      "---  ------               --------------  -----  \n",
      " 0   Unnamed: 0           10037 non-null  int64  \n",
      " 1   user_id              10037 non-null  object \n",
      " 2   date_served          10021 non-null  object \n",
      " 3   marketing_channel    10022 non-null  object \n",
      " 4   variant              10037 non-null  object \n",
      " 5   converted            10037 non-null  bool   \n",
      " 6   language_displayed   10037 non-null  object \n",
      " 7   language_preferred   10037 non-null  object \n",
      " 8   age_group            10037 non-null  object \n",
      " 9   date_subscribed      1856 non-null   object \n",
      " 10  date_canceled        577 non-null    object \n",
      " 11  subscribing_channel  1856 non-null   object \n",
      " 12  is_retained          10037 non-null  bool   \n",
      " 13  DoW                  1856 non-null   float64\n",
      " 14  channel_code         1856 non-null   float64\n",
      " 15  is_correct_lang      10037 non-null  object \n",
      "dtypes: bool(2), float64(2), int64(1), object(11)\n",
      "memory usage: 1.1+ MB\n",
      "None\n",
      "        Unnamed: 0          DoW  channel_code\n",
      "count  10037.00000  1856.000000   1856.000000\n",
      "mean    5018.00000     2.529634      2.631466\n",
      "std     2897.57666     1.937900      1.211340\n",
      "min        0.00000     0.000000      1.000000\n",
      "25%     2509.00000     1.000000      2.000000\n",
      "50%     5018.00000     2.000000      2.000000\n",
      "75%     7527.00000     4.000000      3.000000\n",
      "max    10036.00000     6.000000      5.000000\n"
     ]
    }
   ],
   "source": [
    "\n",
    "#Inspect the data characteristics\n",
    "#Print the first five rows of the DataFrame\n",
    "print(marketing.head())\n",
    "#Print the data information\n",
    "print(marketing.info())\n",
    "# Print the statistics of all columns\n",
    "print(marketing.describe())\n",
    "\n",
    "\n"
   ]
  },
  {
   "cell_type": "code",
   "execution_count": 504,
   "metadata": {},
   "outputs": [
    {
     "name": "stdout",
     "output_type": "stream",
     "text": [
      "bool\n",
      "bool\n"
     ]
    }
   ],
   "source": [
    "# Check the data type of is_retained\n",
    "print(marketing['is_retained'].dtype)\n",
    "\n",
    "# Convert is_retained to a boolean\n",
    "marketing['is_retained'] = marketing['is_retained'].astype('bool')\n",
    "\n",
    "# Check the data type of is_retained, again\n",
    "print(marketing['is_retained'].dtype)"
   ]
  },
  {
   "cell_type": "code",
   "execution_count": 505,
   "metadata": {},
   "outputs": [],
   "source": [
    "# Mapping for channels\n",
    "channel_dict = {\"House Ads\": 1, \"Instagram\": 2, \"Facebook\": 3, \"Email\": 4, \"Push\": 5}\n",
    "\n",
    "# Map the channel to a channel code\n",
    "marketing['channel_code'] = marketing['subscribing_channel'].map(channel_dict)"
   ]
  },
  {
   "cell_type": "code",
   "execution_count": 506,
   "metadata": {},
   "outputs": [],
   "source": [
    "# Import numpy\n",
    "import numpy as np\n",
    "\n",
    "# Add the new column is_correct_lang\n",
    "marketing['is_correct_lang'] = np.where(\n",
    "    marketing['language_preferred'] == marketing['language_displayed'], 'Yes', 'No')"
   ]
  },
  {
   "cell_type": "code",
   "execution_count": 507,
   "metadata": {},
   "outputs": [],
   "source": [
    "# Import pandas into the environment\n",
    "import pandas as pd\n",
    "\n",
    "# Import marketing.csv with date columns\n",
    "marketing = pd.read_csv('marketing.csv', \n",
    "parse_dates = ['date_served', 'date_subscribed', 'date_canceled'])\n",
    "\n",
    "# Add a DoW column\n",
    "marketing['DoW'] = marketing['date_subscribed'].dt.dayofweek"
   ]
  },
  {
   "cell_type": "code",
   "execution_count": 508,
   "metadata": {},
   "outputs": [
    {
     "name": "stdout",
     "output_type": "stream",
     "text": [
      "date_served\n",
      "2018-01-01    362\n",
      "2018-01-02    374\n",
      "2018-01-03    348\n",
      "2018-01-04    323\n",
      "2018-01-05    319\n",
      "Name: user_id, dtype: int64\n"
     ]
    }
   ],
   "source": [
    "# Group by date_served and count number of unique user_id's\n",
    "daily_users = marketing.groupby(['date_served'])['user_id'].nunique()\n",
    "\n",
    "# Print head of daily_users\n",
    "print(daily_users.head())"
   ]
  },
  {
   "cell_type": "code",
   "execution_count": 509,
   "metadata": {},
   "outputs": [
    {
     "data": {
      "image/png": "[encoded data removed]",
      "text/plain": [
       "<Figure size 640x480 with 1 Axes>"
      ]
     },
     "metadata": {},
     "output_type": "display_data"
    }
   ],
   "source": [
    "# Plot daily_subscribers\n",
    "daily_users.plot()\n",
    "\n",
    "# Include a title and y-axis label\n",
    "plt.title('Daily users')\n",
    "plt.ylabel('Number of users')\n",
    "\n",
    "# Rotate the x-axis labels by 45 degrees\n",
    "plt.xlabel('Date')\n",
    "plt.xticks(rotation =45)\n",
    "\n",
    "# Display the plot\n",
    "plt.show()"
   ]
  },
  {
   "cell_type": "code",
   "execution_count": 510,
   "metadata": {},
   "outputs": [
    {
     "name": "stdout",
     "output_type": "stream",
     "text": [
      "14.09 %\n"
     ]
    }
   ],
   "source": [
    "#Measure the campaign's success using conversion rate\n",
    "#Conversion rate = No of people who convert/ Total number of people we marketed to \n",
    "# Retention rate= No of people who remained subscribed/ Total number of people who converted\n",
    "#Calculate the number of people who subscribed \n",
    "total_subscribers = marketing[marketing['converted'] == True]['user_id'].nunique()\n",
    "\n",
    "#Calculate the number of people we marketed to\n",
    "total= marketing['user_id'].nunique()\n",
    "\n",
    "#Calculate the conversion rate\n",
    "conversion_rate= total_subscribers/total\n",
    "print(round(conversion_rate * 100, 2), \"%\")\n",
    "\n"
   ]
  },
  {
   "cell_type": "code",
   "execution_count": 511,
   "metadata": {},
   "outputs": [
    {
     "name": "stdout",
     "output_type": "stream",
     "text": [
      "676.41 %\n"
     ]
    }
   ],
   "source": [
    "#Now calculate the retention rate\n",
    "# Calculate the number of subscribers\n",
    "total_subscribers = marketing[marketing[\"converted\"]== True]['user_id'].nunique()\n",
    "\n",
    "# Calculate the number of people who remained subscribed\n",
    "retained = marketing[marketing['is_retained']== True]['user_id'].nunique()\n",
    "\n",
    "# Calculate the retention rate\n",
    "retention_rate = retained/total_subscribers\n",
    "print(round(retention_rate*100, 2), \"%\")"
   ]
  },
  {
   "cell_type": "code",
   "execution_count": 512,
   "metadata": {},
   "outputs": [
    {
     "name": "stdout",
     "output_type": "stream",
     "text": [
      "58.05 %\n"
     ]
    }
   ],
   "source": [
    "# Customer Segmentation by House Ads \n",
    "#Check retention rate for users who converted using only House Ads\n",
    "house_ads = marketing[marketing['subscribing_channel'] == 'House Ads']\n",
    "retained_hads = house_ads[house_ads['is_retained']== True]['user_id'].nunique()\n",
    "subscribers= house_ads[house_ads['converted']== True]['user_id'].nunique()\n",
    "\n",
    "retention_rate = retained_hads/ subscribers\n",
    "print(round(retention_rate*100, 2), '%')"
   ]
  },
  {
   "cell_type": "code",
   "execution_count": 513,
   "metadata": {},
   "outputs": [
    {
     "name": "stdout",
     "output_type": "stream",
     "text": [
      "English speaker conversion rate: language_displayed\n",
      "English    13.13\n",
      "Name: user_id, dtype: float64 %\n"
     ]
    }
   ],
   "source": [
    "#Customer Segmentation by Language(English)\n",
    "# Isolate english speakers\n",
    "english_speakers = marketing[marketing['language_displayed'] == 'English'] \n",
    "\n",
    "# Calculate the total number of English speaking users\n",
    "total_eng = english_speakers['user_id'].nunique()\n",
    "\n",
    "# Calculate the number of English speakers who converted\n",
    "subscribers_eng = english_speakers[english_speakers['converted']== True].groupby(['language_displayed'])['user_id'].nunique()\n",
    "\n",
    "# Calculate conversion rate\n",
    "conversion_rate = subscribers_eng/total_eng\n",
    "print('English speaker conversion rate:', round(conversion_rate*100,2), '%')"
   ]
  },
  {
   "cell_type": "code",
   "execution_count": 514,
   "metadata": {},
   "outputs": [
    {
     "name": "stdout",
     "output_type": "stream",
     "text": [
      "subscribing_channel\n",
      "Email        141\n",
      "Facebook     152\n",
      "House Ads    173\n",
      "Instagram    158\n",
      "Push          54\n",
      "Name: user_id, dtype: int64\n"
     ]
    }
   ],
   "source": [
    "#Grouping by subscribing_channel and calculate retention\n",
    "retained_sc = marketing[marketing['is_retained']== True].groupby(['subscribing_channel'])['user_id'].nunique()\n",
    "print(retained_sc)"
   ]
  },
  {
   "cell_type": "code",
   "execution_count": 515,
   "metadata": {},
   "outputs": [
    {
     "name": "stdout",
     "output_type": "stream",
     "text": [
      "subscribing_channel\n",
      "Email        161\n",
      "Facebook     221\n",
      "House Ads    298\n",
      "Instagram    232\n",
      "Push          77\n",
      "Name: user_id, dtype: int64\n"
     ]
    }
   ],
   "source": [
    "# Group by subscribing_channel and calculate subscribers\n",
    "subscribers_sc= marketing[marketing['converted']== True].groupby(['subscribing_channel'])['user_id'].nunique()\n",
    "print(subscribers_sc)"
   ]
  },
  {
   "cell_type": "code",
   "execution_count": 516,
   "metadata": {},
   "outputs": [
    {
     "name": "stdout",
     "output_type": "stream",
     "text": [
      "subscribing_channel\n",
      "Email        87.577640\n",
      "Facebook     68.778281\n",
      "House Ads    58.053691\n",
      "Instagram    68.103448\n",
      "Push         70.129870\n",
      "Name: user_id, dtype: float64\n"
     ]
    }
   ],
   "source": [
    "#Calculate the retention rate across the DataFrame \n",
    "channel_retention_rate = (retained_sc/subscribers_sc)*100\n",
    "print(channel_retention_rate)\n"
   ]
  },
  {
   "cell_type": "code",
   "execution_count": 517,
   "metadata": {},
   "outputs": [
    {
     "name": "stdout",
     "output_type": "stream",
     "text": [
      "language_displayed\n",
      "Arabic     0.500000\n",
      "English    0.131260\n",
      "German     0.716216\n",
      "Spanish    0.200000\n",
      "Name: user_id, dtype: float64\n"
     ]
    }
   ],
   "source": [
    "\n",
    "# Group by language_displayed and count unique users\n",
    "total_lang = marketing.groupby(['language_displayed'])\\\n",
    "                    ['user_id'].nunique()\n",
    "\n",
    "# Group by language_displayed and count unique conversions\n",
    "subscribers_lang= marketing[marketing['converted'] == True]\\\n",
    "                            .groupby(['language_displayed'])\\\n",
    "                            ['user_id'].nunique()\n",
    "\n",
    "# Calculate the conversion rate for all languages\n",
    "language_conversion_rate = subscribers_lang/total_lang\n",
    "print(language_conversion_rate)"
   ]
  },
  {
   "cell_type": "code",
   "execution_count": 518,
   "metadata": {},
   "outputs": [
    {
     "name": "stdout",
     "output_type": "stream",
     "text": [
      "date_served\n",
      "2018-01-01    0.099448\n",
      "2018-01-02    0.098930\n",
      "2018-01-03    0.103448\n",
      "2018-01-04    0.108359\n",
      "2018-01-05    0.125392\n",
      "2018-01-06    0.113636\n",
      "2018-01-07    0.141818\n",
      "2018-01-08    0.115385\n",
      "2018-01-09    0.125000\n",
      "2018-01-10    0.118694\n",
      "2018-01-11    0.080645\n",
      "2018-01-12    0.076412\n",
      "2018-01-13    0.084967\n",
      "2018-01-14    0.085246\n",
      "2018-01-15    0.113429\n",
      "2018-01-16    0.255155\n",
      "2018-01-17    0.219512\n",
      "2018-01-18    0.091195\n",
      "2018-01-19    0.059016\n",
      "2018-01-20    0.067524\n",
      "2018-01-21    0.087336\n",
      "2018-01-22    0.123596\n",
      "2018-01-23    0.122093\n",
      "2018-01-24    0.115789\n",
      "2018-01-25    0.125000\n",
      "2018-01-26    0.090090\n",
      "2018-01-27    0.065625\n",
      "2018-01-28    0.062500\n",
      "2018-01-29    0.059561\n",
      "2018-01-30    0.066246\n",
      "2018-01-31    0.052941\n",
      "Name: user_id, dtype: float64\n"
     ]
    }
   ],
   "source": [
    "# Group by date_served and count unique users\n",
    "total_date = marketing.groupby(['date_served'])['user_id'].nunique()\n",
    "\n",
    "# Group by date_served and count unique converted users\n",
    "subscribers_date= marketing[marketing['converted']== True].groupby(['date_served'])['user_id'].nunique()\n",
    "\n",
    "# Calculate the conversion rate per day\n",
    "daily_conversion_rate = subscribers_date/total_date\n",
    "print(daily_conversion_rate)"
   ]
  },
  {
   "cell_type": "code",
   "execution_count": 519,
   "metadata": {},
   "outputs": [
    {
     "data": {
      "text/plain": [
       "<function matplotlib.pyplot.show(close=None, block=None)>"
      ]
     },
     "execution_count": 519,
     "metadata": {},
     "output_type": "execute_result"
    },
    {
     "data": {
      "image/png": "[encoded data removed]",
      "text/plain": [
       "<Figure size 640x480 with 1 Axes>"
      ]
     },
     "metadata": {},
     "output_type": "display_data"
    }
   ],
   "source": [
    "# Create a bar chart using channel retention DataFrame\n",
    "language_conversion_rate.plot(kind= 'bar')\n",
    "\n",
    "#Add a title and x and y-axis labels\n",
    "plt.title('Conversion rate by language\\n', size=16)\n",
    "plt.xlabel('Language', size = 14)\n",
    "plt.ylabel('Conversion rate (%)', size = 14)\n",
    "\n",
    "#Displaying the plot\n",
    "plt.show"
   ]
  },
  {
   "cell_type": "code",
   "execution_count": null,
   "metadata": {},
   "outputs": [],
   "source": []
  }
 ],
 "metadata": {
  "kernelspec": {
   "display_name": "Python 3",
   "language": "python",
   "name": "python3"
  },
  "language_info": {
   "codemirror_mode": {
    "name": "ipython",
    "version": 3
   },
   "file_extension": ".py",
   "mimetype": "text/x-python",
   "name": "python",
   "nbconvert_exporter": "python",
   "pygments_lexer": "ipython3",
   "version": "3.12.1"
  }
 },
 "nbformat": 4,
 "nbformat_minor": 2
}
